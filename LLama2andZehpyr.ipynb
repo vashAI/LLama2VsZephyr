{
 "cells": [
  {
   "cell_type": "markdown",
   "id": "cd7b8985-5fcf-4fb5-a08e-0866198d3f86",
   "metadata": {},
   "source": [
    "# LLama2 Experiment"
   ]
  },
  {
   "cell_type": "code",
   "execution_count": 3,
   "id": "d93e49b6-8a4b-4c79-a837-4cf8ce230eb3",
   "metadata": {},
   "outputs": [],
   "source": [
    "from ctransformers import AutoModelForCausalLM\n",
    "import time\n",
    "\n",
    "# check ctransformers doc for more configs\n",
    "config = {'max_new_tokens': 256, 'repetition_penalty': 1.1, \n",
    "          'temperature': 0.1, 'stream': True}\n",
    "\n",
    "#model_id = \"../models/llama-2-7b-chat.ggmlv3.q2_K.bin\" # 17sec, 8sec\n",
    "#model_id = \"../models/llama-2-7b-chat.ggmlv3.q6_K.bin\" # 36sec, 16sec\n",
    "model_id = \"../models/llama-2-7b-chat.ggmlv3.q8_0.bin\" # 27sec, 22sec\n",
    "\n",
    "llm = AutoModelForCausalLM.from_pretrained(\n",
    "      model_id, \n",
    "      model_type=\"llama\",                                           \n",
    "      lib='avx2', \n",
    "      #gpu_layers=110,\n",
    "      **config\n",
    "      )"
   ]
  },
  {
   "cell_type": "markdown",
   "id": "052a4161-8b32-4af4-868d-b730238021ca",
   "metadata": {},
   "source": [
    "translation_prompt = \"\"\"\n",
    "    Translate the following text to English.\n",
    "     Cher Tom,\n",
    "     \n",
    "     Nous avons discuté lors de la dernière réunion que nous réaliserions les 5 premières tâches et que nous en ferions 2 autres si nous en avions le temps. \n",
    "     La semaine prochaine, nous aurons un appel pour discuter du processus de validation.\n",
    "     \n",
    "     D'ici là, si vous avez d'autres questions, vous êtes libre de me contacter.\n",
    "\n",
    "     Meilleures salutations,\n",
    "     Christophe\n",
    "    \"\"\"\n",
    "\n",
    "iteration_speed_llama2 = []\n",
    "iteration_result_llama2 = []\n",
    "for i in range(1, 101):\n",
    "    print(\"Iteration: \",str(i))\n",
    "    start = time.time()\n",
    "    output = llm(translation_prompt, stream=False)\n",
    "\n",
    "    time_generate = time.time() - start\n",
    "    print(f'Time for complete generation: {time_generate}s')\n",
    "\n",
    "    iteration_speed_llama2.append(time_generate)\n",
    "    iteration_result_llama2.append(output)"
   ]
  },
  {
   "cell_type": "markdown",
   "id": "0a5b0520-701b-485b-aafd-ca0ffe5c85ee",
   "metadata": {},
   "source": [
    "### Storing the results"
   ]
  },
  {
   "cell_type": "code",
   "execution_count": null,
   "id": "9d24d6cd-ccc9-48e8-8d30-009a52001ade",
   "metadata": {},
   "outputs": [],
   "source": [
    "llama2_result_text_length = []\n",
    "for t in iteration_result_llama2:\n",
    "    llama2_result_text_length.append(len(t))"
   ]
  },
  {
   "cell_type": "code",
   "execution_count": null,
   "id": "4ad9407d-6ab6-4d73-a0c5-bd010679e530",
   "metadata": {},
   "outputs": [],
   "source": [
    "import pandas as pd\n",
    "# Creating a DataFrame\n",
    "df = pd.DataFrame({\n",
    "    'Speed': iteration_speed_llama2,\n",
    "    'Length': llama2_result_text_length,\n",
    "    'Text': iteration_result_llama2\n",
    "})"
   ]
  },
  {
   "cell_type": "code",
   "execution_count": null,
   "id": "b9756498-2e4a-40ea-ab6f-c3afb9267333",
   "metadata": {},
   "outputs": [],
   "source": [
    "df.to_csv(\"llama.csv\",sep=\"|\")"
   ]
  },
  {
   "cell_type": "code",
   "execution_count": null,
   "id": "c1825ab2-29f0-486b-abc8-8b3d83e6875a",
   "metadata": {},
   "outputs": [],
   "source": [
    "import matplotlib.pyplot as plt\n",
    "plt.boxplot(iteration_speed_llama2)"
   ]
  },
  {
   "cell_type": "markdown",
   "id": "30942908-afd7-4ccc-8f11-f143b8c83a49",
   "metadata": {},
   "source": [
    "### Text Generation with LLama2"
   ]
  },
  {
   "cell_type": "code",
   "execution_count": null,
   "id": "086d868f-597f-45ae-86f5-90ec1df916d5",
   "metadata": {},
   "outputs": [],
   "source": [
    "prompt=\"\"\"\n",
    "Act as a data science expert. Write me 5 project ideas to create to get a job as a data scientit, in bullet list format.\n",
    "\"\"\"\n",
    "import time\n",
    "start = time.time()\n",
    "\n",
    "print(llm(prompt, stream=False))\n",
    "\n",
    "time_generate = time.time() - start\n",
    "print(f'Time for complete generation: {time_generate}s')"
   ]
  },
  {
   "cell_type": "code",
   "execution_count": null,
   "id": "6a91e242-5dd2-4e3f-b126-b5df3141ee04",
   "metadata": {},
   "outputs": [],
   "source": []
  },
  {
   "cell_type": "markdown",
   "id": "cf9ca201-0b3a-4e09-83fa-90b0cdfcb54e",
   "metadata": {},
   "source": [
    "# Zepyhr Experiment"
   ]
  },
  {
   "cell_type": "code",
   "execution_count": 5,
   "id": "6ad0edfd-e3c1-4d15-919b-adb0b55e9422",
   "metadata": {},
   "outputs": [],
   "source": [
    "from ctransformers import AutoModelForCausalLM, AutoConfig, Config\n",
    "import time\n",
    "\n",
    "conf = AutoConfig(Config(temperature=0.7, repetition_penalty=1.1, batch_size=52,\n",
    "                max_new_tokens=1024, context_length=2048))\n",
    "llm2 = AutoModelForCausalLM.from_pretrained(\"../models/zephyr-7b-alpha.Q4_K_M.gguf\",\n",
    "                                           model_type=\"mistral\", config = conf)"
   ]
  },
  {
   "cell_type": "code",
   "execution_count": 6,
   "id": "4a94c513-e724-4a30-8b24-9d41b52c254b",
   "metadata": {},
   "outputs": [],
   "source": [
    "translation_prompt = \"\"\"\n",
    "Translate the following text to English.\n",
    "\n",
    "Cher Tom,\n",
    "\n",
    "Nous avons discuté lors de la dernière réunion que nous réaliserions les 5 premières tâches et que nous en ferions 2 autres si nous en avions le temps. \n",
    "La semaine prochaine, nous aurons un appel pour discuter du processus de validation.\n",
    "\n",
    "D'ici là, si vous avez d'autres questions, vous êtes libre de me contacter.\n",
    "\n",
    "Meilleures salutations,\n",
    "\n",
    "Christophe\n",
    "\"\"\""
   ]
  },
  {
   "cell_type": "code",
   "execution_count": null,
   "id": "defcc583-b987-4688-9e89-a9174b948025",
   "metadata": {},
   "outputs": [
    {
     "name": "stdout",
     "output_type": "stream",
     "text": [
      "Iteration:  1\n",
      "--- 44.17333197593689 seconds ---\n",
      "Iteration:  2\n",
      "--- 7.5453200340271 seconds ---\n",
      "Iteration:  3\n"
     ]
    }
   ],
   "source": [
    "iteration_speed_zepyhr = []\n",
    "iteration_result_zepyhr = []\n",
    "for i in range(1, 101):\n",
    "    print(\"Iteration: \",str(i))\n",
    "    start_time = time.time()\n",
    "    template = f'''<|system|>Translate the prompt to English\n",
    "    </s>\n",
    "    <|user|>\n",
    "    {translation_prompt}</s>\n",
    "    <|assistant|>\n",
    "    '''\n",
    "    output = llm2(template)\n",
    "    time_generate = time.time() - start_time\n",
    "    print(\"--- %s seconds ---\" % (time_generate))\n",
    "    iteration_speed_zepyhr.append(time_generate)\n",
    "    iteration_result_zepyhr.append(output)"
   ]
  },
  {
   "cell_type": "code",
   "execution_count": null,
   "id": "3a97ef0a-0331-435e-b6b2-c975c9f67946",
   "metadata": {},
   "outputs": [],
   "source": [
    "zepyhr_result_text_length = []\n",
    "for t in iteration_result_zepyhr:\n",
    "    zepyhr_result_text_length.append(len(t))"
   ]
  },
  {
   "cell_type": "markdown",
   "id": "ef7d92f5-c078-492d-bf7c-086541819f41",
   "metadata": {},
   "source": [
    "### Storing the results"
   ]
  },
  {
   "cell_type": "code",
   "execution_count": null,
   "id": "6d9b44ef-43f9-4628-8175-2a2c1efdf2ce",
   "metadata": {},
   "outputs": [],
   "source": [
    "import pandas as pd\n",
    "# Creating a DataFrame\n",
    "df = pd.DataFrame({\n",
    "    'Speed': iteration_speed_zepyhr,\n",
    "    'Length': zepyhr_result_text_length,\n",
    "    'Text': iteration_result_zepyhr\n",
    "})\n",
    "df"
   ]
  },
  {
   "cell_type": "code",
   "execution_count": null,
   "id": "bbe33d9f-3f77-44a9-8244-49a531ae7de2",
   "metadata": {},
   "outputs": [],
   "source": [
    "df.to_csv(\"zepyhr.csv\",sep=\"|\")"
   ]
  },
  {
   "cell_type": "markdown",
   "id": "0566f25d-d50c-474f-8432-0540d1da9a34",
   "metadata": {},
   "source": [
    "### Text Generation with Zepyhr"
   ]
  },
  {
   "cell_type": "code",
   "execution_count": null,
   "id": "eed95c42-e637-43ce-b062-138b53edbb35",
   "metadata": {},
   "outputs": [],
   "source": [
    "prompt = \"Write me 5 project ideas to create to get a job as a data scientit, in bullet list format.\"\n",
    "start_time = time.time()\n",
    "template = f'''<|system|> Act as a data science expert. \n",
    "</s> \n",
    "<|user|>\n",
    "{prompt}</s>\n",
    "<|assistant|>\n",
    "'''\n",
    "print(llm2(template))\n",
    "print(\"--- %s seconds ---\" % (time.time() - start_time))"
   ]
  },
  {
   "cell_type": "markdown",
   "id": "4d48e71c-8e32-44f0-b275-1978ef0d3760",
   "metadata": {},
   "source": [
    "# Analyse"
   ]
  },
  {
   "cell_type": "code",
   "execution_count": 1,
   "id": "3dd959ea-1084-479b-a29d-c5587bc8099d",
   "metadata": {},
   "outputs": [],
   "source": [
    "import pandas as pd\n",
    "import matplotlib.pyplot as plt"
   ]
  },
  {
   "cell_type": "code",
   "execution_count": 2,
   "id": "e3f80daa-19f0-48cd-a4cc-00df343662e1",
   "metadata": {},
   "outputs": [
    {
     "name": "stdout",
     "output_type": "stream",
     "text": [
      "(100, 3)\n",
      "(100, 3)\n"
     ]
    }
   ],
   "source": [
    "df_llama = pd.read_csv(\"llama.csv\",sep=\"|\")\n",
    "df_llama.drop(columns=['Unnamed: 0'], inplace=True)\n",
    "print(df_llama.shape)\n",
    "df_zepyhr = pd.read_csv(\"zepyhr.csv\",sep=\"|\")\n",
    "df_zepyhr.drop(columns=['Unnamed: 0'], inplace=True)\n",
    "print(df_zepyhr.shape)"
   ]
  },
  {
   "cell_type": "code",
   "execution_count": 3,
   "id": "b6426c6c-44b8-4157-b31f-8c51c8c30e41",
   "metadata": {},
   "outputs": [
    {
     "name": "stdout",
     "output_type": "stream",
     "text": [
      "Average speed (seconds) of Zepyhr:  8.01265522480011\n",
      "Average speed (seconds) of Llama:  15.45796451807022\n"
     ]
    }
   ],
   "source": [
    "print(\"Average speed (seconds) of Zepyhr: \",df_zepyhr['Speed_Zepyhr'].mean())\n",
    "print(\"Average speed (seconds) of Llama: \",df_llama['Speed_Llama'].mean())"
   ]
  },
  {
   "cell_type": "code",
   "execution_count": 8,
   "id": "8f265e11-d403-4747-9324-00450af649bd",
   "metadata": {},
   "outputs": [
    {
     "data": {
      "text/plain": [
       "Speed_Llama      float64\n",
       "Length_Llama       int64\n",
       "Text_Llama        object\n",
       "Speed_Zepyhr     float64\n",
       "Length_Zepyhr      int64\n",
       "Text_Zepyhr       object\n",
       "dtype: object"
      ]
     },
     "execution_count": 8,
     "metadata": {},
     "output_type": "execute_result"
    }
   ],
   "source": [
    "df_both = pd.concat([df_llama, df_zepyhr], axis=1)\n",
    "df_both.dtypes"
   ]
  },
  {
   "cell_type": "markdown",
   "id": "21438502-a7f7-4308-98fb-735c5cdc3bf0",
   "metadata": {},
   "source": [
    "## Performance analysis"
   ]
  },
  {
   "cell_type": "code",
   "execution_count": 9,
   "id": "37243fa6-98a6-4663-b66e-835f914f0ac4",
   "metadata": {},
   "outputs": [
    {
     "data": {
      "image/png": "[encoded data removed]",
      "text/plain": [
       "<Figure size 720x432 with 1 Axes>"
      ]
     },
     "metadata": {
      "needs_background": "light"
     },
     "output_type": "display_data"
    }
   ],
   "source": [
    "# Create the plot\n",
    "fig, ax = plt.subplots(figsize=(10, 6))\n",
    "\n",
    "# Plot the data with a custom color palette, line style, and marker\n",
    "df_both['Speed_Llama'].plot(ax=ax, color='blue', linestyle='-', label='Speed of Llama2')\n",
    "df_both['Speed_Zepyhr'].plot(ax=ax, color='green', linestyle='-',  label='Speed of Zephyr')\n",
    "\n",
    "# Add average lines\n",
    "avg_llama = df_both['Speed_Llama'].mean()\n",
    "avg_zephyr = df_both['Speed_Zepyhr'].mean()\n",
    "\n",
    "ax.axhline(avg_llama, color='blue', linestyle='-.', label='Average Speed of Llama2')\n",
    "ax.axhline(avg_zephyr, color='green', linestyle='-.', label='Average Speed of Zephyr')\n",
    "\n",
    "\n",
    "# Add title and labels\n",
    "ax.set_title('Comparison of Speeds: Llama2 vs. Zephyr', fontsize=16)\n",
    "ax.set_xlabel('Iteration', fontsize=14)\n",
    "ax.set_ylabel('Speed (seconds)', fontsize=14)\n",
    "\n",
    "# Add a grid\n",
    "ax.grid(True, which='both', linestyle='--', linewidth=0.5)\n",
    "\n",
    "# Add a legend\n",
    "ax.legend()\n",
    "\n",
    "# Display the plot\n",
    "plt.tight_layout()\n",
    "plt.show()"
   ]
  },
  {
   "cell_type": "markdown",
   "id": "bd2b706b-be3d-41f2-9687-d82fa5878434",
   "metadata": {},
   "source": [
    "## Consistency Analysis"
   ]
  },
  {
   "cell_type": "code",
   "execution_count": 19,
   "id": "0868bd1d-1ff2-4b8b-aab8-f4be0f6e075b",
   "metadata": {},
   "outputs": [],
   "source": [
    "from sklearn.feature_extraction.text import TfidfVectorizer\n",
    "from sklearn.metrics.pairwise import cosine_similarity\n",
    "import numpy as np\n",
    "import language_tool_python"
   ]
  },
  {
   "cell_type": "code",
   "execution_count": 11,
   "id": "54893a1b-7917-41c6-b68e-da43ddbb050e",
   "metadata": {},
   "outputs": [],
   "source": [
    "def analyze_consistency(texts):\n",
    "    # Convert texts to TF-IDF vectors\n",
    "    vectorizer = TfidfVectorizer().fit_transform(texts)\n",
    "    \n",
    "    # Compute cosine similarity for all pairs of texts\n",
    "    cosine_matrix = cosine_similarity(vectorizer)\n",
    "    \n",
    "    # Since the diagonal will always be 1 (text compared to itself), \n",
    "    # we exclude it to get a more meaningful average similarity\n",
    "    np.fill_diagonal(cosine_matrix, 1)\n",
    "    \n",
    "    # Return average similarity\n",
    "    avg_similarity = np.nanmean(cosine_matrix)\n",
    "    return avg_similarity\n"
   ]
  },
  {
   "cell_type": "code",
   "execution_count": 12,
   "id": "28570253-37da-4aa9-88ce-8e20ada08100",
   "metadata": {},
   "outputs": [
    {
     "data": {
      "text/html": [
       "<div>\n",
       "<style scoped>\n",
       "    .dataframe tbody tr th:only-of-type {\n",
       "        vertical-align: middle;\n",
       "    }\n",
       "\n",
       "    .dataframe tbody tr th {\n",
       "        vertical-align: top;\n",
       "    }\n",
       "\n",
       "    .dataframe thead th {\n",
       "        text-align: right;\n",
       "    }\n",
       "</style>\n",
       "<table border=\"1\" class=\"dataframe\">\n",
       "  <thead>\n",
       "    <tr style=\"text-align: right;\">\n",
       "      <th></th>\n",
       "      <th>Speed_Llama</th>\n",
       "      <th>Length_Llama</th>\n",
       "      <th>Text_Llama</th>\n",
       "      <th>Speed_Zepyhr</th>\n",
       "      <th>Length_Zepyhr</th>\n",
       "      <th>Text_Zepyhr</th>\n",
       "    </tr>\n",
       "  </thead>\n",
       "  <tbody>\n",
       "    <tr>\n",
       "      <th>0</th>\n",
       "      <td>22.110595</td>\n",
       "      <td>350</td>\n",
       "      <td>\\n\\n    Translation:\\n\\n    Dear Tom,\\n\\n    W...</td>\n",
       "      <td>8.295529</td>\n",
       "      <td>294</td>\n",
       "      <td>\\nDear Tom,\\n\\nWe discussed during our last me...</td>\n",
       "    </tr>\n",
       "    <tr>\n",
       "      <th>1</th>\n",
       "      <td>15.268856</td>\n",
       "      <td>350</td>\n",
       "      <td>\\n\\n    Translation:\\n\\n    Dear Tom,\\n\\n    W...</td>\n",
       "      <td>8.036292</td>\n",
       "      <td>281</td>\n",
       "      <td>\\nDear Tom,\\n\\nDuring our last meeting, we dec...</td>\n",
       "    </tr>\n",
       "    <tr>\n",
       "      <th>2</th>\n",
       "      <td>16.692148</td>\n",
       "      <td>387</td>\n",
       "      <td>\\n\\nThe text is in French and it can be transl...</td>\n",
       "      <td>8.094346</td>\n",
       "      <td>290</td>\n",
       "      <td>\\nDear Tom,\\n\\nWe discussed during our last me...</td>\n",
       "    </tr>\n",
       "    <tr>\n",
       "      <th>3</th>\n",
       "      <td>14.903525</td>\n",
       "      <td>344</td>\n",
       "      <td>\\n\\n    Translation:\\n\\n    Dear Tom,\\n\\n    W...</td>\n",
       "      <td>7.822113</td>\n",
       "      <td>280</td>\n",
       "      <td>\\nDear Tom,\\n\\nAt the last meeting we discusse...</td>\n",
       "    </tr>\n",
       "    <tr>\n",
       "      <th>4</th>\n",
       "      <td>15.268856</td>\n",
       "      <td>350</td>\n",
       "      <td>\\n\\n    Translation:\\n\\n    Dear Tom,\\n\\n    W...</td>\n",
       "      <td>8.559615</td>\n",
       "      <td>304</td>\n",
       "      <td>\\nDear Tom,\\n\\nDuring our last meeting, we dis...</td>\n",
       "    </tr>\n",
       "    <tr>\n",
       "      <th>5</th>\n",
       "      <td>15.264853</td>\n",
       "      <td>350</td>\n",
       "      <td>\\n\\n    Translation:\\n\\n    Dear Tom,\\n\\n    W...</td>\n",
       "      <td>8.101863</td>\n",
       "      <td>287</td>\n",
       "      <td>\\nDear Tom,\\n\\nDuring our last meeting, we dis...</td>\n",
       "    </tr>\n",
       "    <tr>\n",
       "      <th>6</th>\n",
       "      <td>15.274862</td>\n",
       "      <td>350</td>\n",
       "      <td>\\n\\n    Translation:\\n\\n    Dear Tom,\\n\\n    W...</td>\n",
       "      <td>7.728013</td>\n",
       "      <td>281</td>\n",
       "      <td>\\nDear Tom,\\n\\nDuring our last meeting, we dis...</td>\n",
       "    </tr>\n",
       "    <tr>\n",
       "      <th>7</th>\n",
       "      <td>15.277864</td>\n",
       "      <td>350</td>\n",
       "      <td>\\n\\n    Translation:\\n\\n    Dear Tom,\\n\\n    W...</td>\n",
       "      <td>7.932199</td>\n",
       "      <td>299</td>\n",
       "      <td>\\nDear Tom,\\n\\nWe discussed during our last me...</td>\n",
       "    </tr>\n",
       "    <tr>\n",
       "      <th>8</th>\n",
       "      <td>15.288877</td>\n",
       "      <td>350</td>\n",
       "      <td>\\n\\n    Translation:\\n\\n    Dear Tom,\\n\\n    W...</td>\n",
       "      <td>7.399714</td>\n",
       "      <td>277</td>\n",
       "      <td>\\nDear Tom,\\n\\nDuring our last meeting, we dis...</td>\n",
       "    </tr>\n",
       "    <tr>\n",
       "      <th>9</th>\n",
       "      <td>15.277863</td>\n",
       "      <td>350</td>\n",
       "      <td>\\n\\n    Translation:\\n\\n    Dear Tom,\\n\\n    W...</td>\n",
       "      <td>7.725010</td>\n",
       "      <td>291</td>\n",
       "      <td>\\nDear Tom,\\n\\nWe discussed during our last me...</td>\n",
       "    </tr>\n",
       "    <tr>\n",
       "      <th>10</th>\n",
       "      <td>16.892330</td>\n",
       "      <td>378</td>\n",
       "      <td>\\n\\nThe text is in French and it can be transl...</td>\n",
       "      <td>8.371598</td>\n",
       "      <td>307</td>\n",
       "      <td>\\nDear Tom,\\n\\nDuring our last meeting, we dis...</td>\n",
       "    </tr>\n",
       "    <tr>\n",
       "      <th>11</th>\n",
       "      <td>15.307893</td>\n",
       "      <td>350</td>\n",
       "      <td>\\n\\n    Translation:\\n\\n    Dear Tom,\\n\\n    W...</td>\n",
       "      <td>7.846120</td>\n",
       "      <td>289</td>\n",
       "      <td>\\nDear Tom,\\n\\nAs mentioned in the previous me...</td>\n",
       "    </tr>\n",
       "    <tr>\n",
       "      <th>12</th>\n",
       "      <td>15.313896</td>\n",
       "      <td>350</td>\n",
       "      <td>\\n\\n    Translation:\\n\\n    Dear Tom,\\n\\n    W...</td>\n",
       "      <td>7.280606</td>\n",
       "      <td>272</td>\n",
       "      <td>\\nDear Tom,\\n\\nWe discussed during the last me...</td>\n",
       "    </tr>\n",
       "    <tr>\n",
       "      <th>13</th>\n",
       "      <td>16.665647</td>\n",
       "      <td>383</td>\n",
       "      <td>\\n\\nThe text is in French and it can be transl...</td>\n",
       "      <td>7.951218</td>\n",
       "      <td>288</td>\n",
       "      <td>\\nDear Tom,\\n\\nWe discussed during our last me...</td>\n",
       "    </tr>\n",
       "    <tr>\n",
       "      <th>14</th>\n",
       "      <td>16.910346</td>\n",
       "      <td>378</td>\n",
       "      <td>\\n\\nThe text is in French and it can be transl...</td>\n",
       "      <td>7.724008</td>\n",
       "      <td>286</td>\n",
       "      <td>\\nDear Tom,\\n\\nDuring our last meeting, we dis...</td>\n",
       "    </tr>\n",
       "    <tr>\n",
       "      <th>15</th>\n",
       "      <td>15.407984</td>\n",
       "      <td>350</td>\n",
       "      <td>\\n\\n    Translation:\\n\\n    Dear Tom,\\n\\n    W...</td>\n",
       "      <td>8.284519</td>\n",
       "      <td>305</td>\n",
       "      <td>\\nDear Tom,\\n\\nWe discussed during our last me...</td>\n",
       "    </tr>\n",
       "    <tr>\n",
       "      <th>16</th>\n",
       "      <td>15.379956</td>\n",
       "      <td>350</td>\n",
       "      <td>\\n\\n    Translation:\\n\\n    Dear Tom,\\n\\n    W...</td>\n",
       "      <td>8.066319</td>\n",
       "      <td>288</td>\n",
       "      <td>\\nDear Tom,\\n\\nDuring our last meeting, we dis...</td>\n",
       "    </tr>\n",
       "    <tr>\n",
       "      <th>17</th>\n",
       "      <td>15.350932</td>\n",
       "      <td>349</td>\n",
       "      <td>\\n\\n    Translation:\\n\\n    Dear Tom,\\n\\n    W...</td>\n",
       "      <td>7.506813</td>\n",
       "      <td>279</td>\n",
       "      <td>\\nDear Tom,\\n\\nWe discussed during our last me...</td>\n",
       "    </tr>\n",
       "    <tr>\n",
       "      <th>18</th>\n",
       "      <td>14.682325</td>\n",
       "      <td>338</td>\n",
       "      <td>\\n\\nEnglish translation:\\n\\nDear Tom,\\n\\nWe di...</td>\n",
       "      <td>7.720006</td>\n",
       "      <td>290</td>\n",
       "      <td>\\nDear Tom,\\n\\nDuring the last meeting we deci...</td>\n",
       "    </tr>\n",
       "    <tr>\n",
       "      <th>19</th>\n",
       "      <td>15.357936</td>\n",
       "      <td>350</td>\n",
       "      <td>\\n\\n    Translation:\\n\\n    Dear Tom,\\n\\n    W...</td>\n",
       "      <td>7.974236</td>\n",
       "      <td>288</td>\n",
       "      <td>\\nDear Tom,\\n\\nWe discussed during our last me...</td>\n",
       "    </tr>\n",
       "    <tr>\n",
       "      <th>20</th>\n",
       "      <td>15.342923</td>\n",
       "      <td>350</td>\n",
       "      <td>\\n\\n    Translation:\\n\\n    Dear Tom,\\n\\n    W...</td>\n",
       "      <td>8.279514</td>\n",
       "      <td>293</td>\n",
       "      <td>\\nDear Tom,\\n\\nDuring our last meeting, we dis...</td>\n",
       "    </tr>\n",
       "    <tr>\n",
       "      <th>21</th>\n",
       "      <td>15.398974</td>\n",
       "      <td>350</td>\n",
       "      <td>\\n\\n    Translation:\\n\\n    Dear Tom,\\n\\n    W...</td>\n",
       "      <td>8.284519</td>\n",
       "      <td>306</td>\n",
       "      <td>\\nDear Tom,\\n\\nDuring our last meeting, we dis...</td>\n",
       "    </tr>\n",
       "    <tr>\n",
       "      <th>22</th>\n",
       "      <td>15.368948</td>\n",
       "      <td>350</td>\n",
       "      <td>\\n\\n    Translation:\\n\\n    Dear Tom,\\n\\n    W...</td>\n",
       "      <td>7.829105</td>\n",
       "      <td>285</td>\n",
       "      <td>\\nDear Tom,\\n\\nDuring our last meeting, we dis...</td>\n",
       "    </tr>\n",
       "    <tr>\n",
       "      <th>23</th>\n",
       "      <td>15.368946</td>\n",
       "      <td>350</td>\n",
       "      <td>\\n\\n    Translation:\\n\\n    Dear Tom,\\n\\n    W...</td>\n",
       "      <td>7.311635</td>\n",
       "      <td>276</td>\n",
       "      <td>\\nDear Tom,\\n\\nDuring our last meeting, we dis...</td>\n",
       "    </tr>\n",
       "    <tr>\n",
       "      <th>24</th>\n",
       "      <td>15.343925</td>\n",
       "      <td>350</td>\n",
       "      <td>\\n\\n    Translation:\\n\\n    Dear Tom,\\n\\n    W...</td>\n",
       "      <td>7.955221</td>\n",
       "      <td>287</td>\n",
       "      <td>\\nDear Tom,\\n\\nDuring our last meeting, we dis...</td>\n",
       "    </tr>\n",
       "    <tr>\n",
       "      <th>25</th>\n",
       "      <td>16.987416</td>\n",
       "      <td>378</td>\n",
       "      <td>\\n\\nThe text is in French and it can be transl...</td>\n",
       "      <td>8.514728</td>\n",
       "      <td>299</td>\n",
       "      <td>\\nDear Tom,\\n\\nDuring our last meeting, we dis...</td>\n",
       "    </tr>\n",
       "    <tr>\n",
       "      <th>26</th>\n",
       "      <td>15.349930</td>\n",
       "      <td>350</td>\n",
       "      <td>\\n\\n    Translation:\\n\\n    Dear Tom,\\n\\n    W...</td>\n",
       "      <td>7.494802</td>\n",
       "      <td>306</td>\n",
       "      <td>\\nDear Tom,\\n\\nDuring our last meeting we agre...</td>\n",
       "    </tr>\n",
       "    <tr>\n",
       "      <th>27</th>\n",
       "      <td>15.376955</td>\n",
       "      <td>350</td>\n",
       "      <td>\\n\\n    Translation:\\n\\n    Dear Tom,\\n\\n    W...</td>\n",
       "      <td>7.632926</td>\n",
       "      <td>283</td>\n",
       "      <td>\\nDear Tom,\\n\\nWe discussed during our last me...</td>\n",
       "    </tr>\n",
       "    <tr>\n",
       "      <th>28</th>\n",
       "      <td>15.365945</td>\n",
       "      <td>350</td>\n",
       "      <td>\\n\\n    Translation:\\n\\n    Dear Tom,\\n\\n    W...</td>\n",
       "      <td>7.533838</td>\n",
       "      <td>274</td>\n",
       "      <td>\\nDear Tom,\\n\\nAt the last meeting we agreed t...</td>\n",
       "    </tr>\n",
       "    <tr>\n",
       "      <th>29</th>\n",
       "      <td>16.614078</td>\n",
       "      <td>383</td>\n",
       "      <td>\\n\\nThe text is in French and it can be transl...</td>\n",
       "      <td>8.095346</td>\n",
       "      <td>290</td>\n",
       "      <td>\\nDear Tom,\\n\\nDuring our last meeting, we dis...</td>\n",
       "    </tr>\n",
       "    <tr>\n",
       "      <th>30</th>\n",
       "      <td>15.357937</td>\n",
       "      <td>350</td>\n",
       "      <td>\\n\\n    Translation:\\n\\n    Dear Tom,\\n\\n    W...</td>\n",
       "      <td>8.093347</td>\n",
       "      <td>295</td>\n",
       "      <td>\\nDear Tom,\\n\\nDuring our last meeting, we dis...</td>\n",
       "    </tr>\n",
       "    <tr>\n",
       "      <th>31</th>\n",
       "      <td>16.628090</td>\n",
       "      <td>383</td>\n",
       "      <td>\\n\\nThe text is in French and it can be transl...</td>\n",
       "      <td>7.513819</td>\n",
       "      <td>277</td>\n",
       "      <td>\\nDear Tom,\\n\\nDuring our last meeting, we dis...</td>\n",
       "    </tr>\n",
       "    <tr>\n",
       "      <th>32</th>\n",
       "      <td>15.527091</td>\n",
       "      <td>350</td>\n",
       "      <td>\\n\\n    Translation:\\n\\n    Dear Tom,\\n\\n    W...</td>\n",
       "      <td>7.966230</td>\n",
       "      <td>286</td>\n",
       "      <td>\\nDear Tom,\\n\\nWe discussed during our last me...</td>\n",
       "    </tr>\n",
       "    <tr>\n",
       "      <th>33</th>\n",
       "      <td>0.873793</td>\n",
       "      <td>3</td>\n",
       "      <td>\\n\\n</td>\n",
       "      <td>7.869142</td>\n",
       "      <td>303</td>\n",
       "      <td>\\nDear Tom,\\n\\nDuring our last meeting, we dis...</td>\n",
       "    </tr>\n",
       "    <tr>\n",
       "      <th>34</th>\n",
       "      <td>0.873793</td>\n",
       "      <td>3</td>\n",
       "      <td>\\n\\n</td>\n",
       "      <td>7.700989</td>\n",
       "      <td>284</td>\n",
       "      <td>\\nDear Tom,\\n\\nWe discussed during the last me...</td>\n",
       "    </tr>\n",
       "  </tbody>\n",
       "</table>\n",
       "</div>"
      ],
      "text/plain": [
       "    Speed_Llama  Length_Llama  \\\n",
       "0     22.110595           350   \n",
       "1     15.268856           350   \n",
       "2     16.692148           387   \n",
       "3     14.903525           344   \n",
       "4     15.268856           350   \n",
       "5     15.264853           350   \n",
       "6     15.274862           350   \n",
       "7     15.277864           350   \n",
       "8     15.288877           350   \n",
       "9     15.277863           350   \n",
       "10    16.892330           378   \n",
       "11    15.307893           350   \n",
       "12    15.313896           350   \n",
       "13    16.665647           383   \n",
       "14    16.910346           378   \n",
       "15    15.407984           350   \n",
       "16    15.379956           350   \n",
       "17    15.350932           349   \n",
       "18    14.682325           338   \n",
       "19    15.357936           350   \n",
       "20    15.342923           350   \n",
       "21    15.398974           350   \n",
       "22    15.368948           350   \n",
       "23    15.368946           350   \n",
       "24    15.343925           350   \n",
       "25    16.987416           378   \n",
       "26    15.349930           350   \n",
       "27    15.376955           350   \n",
       "28    15.365945           350   \n",
       "29    16.614078           383   \n",
       "30    15.357937           350   \n",
       "31    16.628090           383   \n",
       "32    15.527091           350   \n",
       "33     0.873793             3   \n",
       "34     0.873793             3   \n",
       "\n",
       "                                           Text_Llama  Speed_Zepyhr  \\\n",
       "0   \\n\\n    Translation:\\n\\n    Dear Tom,\\n\\n    W...      8.295529   \n",
       "1   \\n\\n    Translation:\\n\\n    Dear Tom,\\n\\n    W...      8.036292   \n",
       "2   \\n\\nThe text is in French and it can be transl...      8.094346   \n",
       "3   \\n\\n    Translation:\\n\\n    Dear Tom,\\n\\n    W...      7.822113   \n",
       "4   \\n\\n    Translation:\\n\\n    Dear Tom,\\n\\n    W...      8.559615   \n",
       "5   \\n\\n    Translation:\\n\\n    Dear Tom,\\n\\n    W...      8.101863   \n",
       "6   \\n\\n    Translation:\\n\\n    Dear Tom,\\n\\n    W...      7.728013   \n",
       "7   \\n\\n    Translation:\\n\\n    Dear Tom,\\n\\n    W...      7.932199   \n",
       "8   \\n\\n    Translation:\\n\\n    Dear Tom,\\n\\n    W...      7.399714   \n",
       "9   \\n\\n    Translation:\\n\\n    Dear Tom,\\n\\n    W...      7.725010   \n",
       "10  \\n\\nThe text is in French and it can be transl...      8.371598   \n",
       "11  \\n\\n    Translation:\\n\\n    Dear Tom,\\n\\n    W...      7.846120   \n",
       "12  \\n\\n    Translation:\\n\\n    Dear Tom,\\n\\n    W...      7.280606   \n",
       "13  \\n\\nThe text is in French and it can be transl...      7.951218   \n",
       "14  \\n\\nThe text is in French and it can be transl...      7.724008   \n",
       "15  \\n\\n    Translation:\\n\\n    Dear Tom,\\n\\n    W...      8.284519   \n",
       "16  \\n\\n    Translation:\\n\\n    Dear Tom,\\n\\n    W...      8.066319   \n",
       "17  \\n\\n    Translation:\\n\\n    Dear Tom,\\n\\n    W...      7.506813   \n",
       "18  \\n\\nEnglish translation:\\n\\nDear Tom,\\n\\nWe di...      7.720006   \n",
       "19  \\n\\n    Translation:\\n\\n    Dear Tom,\\n\\n    W...      7.974236   \n",
       "20  \\n\\n    Translation:\\n\\n    Dear Tom,\\n\\n    W...      8.279514   \n",
       "21  \\n\\n    Translation:\\n\\n    Dear Tom,\\n\\n    W...      8.284519   \n",
       "22  \\n\\n    Translation:\\n\\n    Dear Tom,\\n\\n    W...      7.829105   \n",
       "23  \\n\\n    Translation:\\n\\n    Dear Tom,\\n\\n    W...      7.311635   \n",
       "24  \\n\\n    Translation:\\n\\n    Dear Tom,\\n\\n    W...      7.955221   \n",
       "25  \\n\\nThe text is in French and it can be transl...      8.514728   \n",
       "26  \\n\\n    Translation:\\n\\n    Dear Tom,\\n\\n    W...      7.494802   \n",
       "27  \\n\\n    Translation:\\n\\n    Dear Tom,\\n\\n    W...      7.632926   \n",
       "28  \\n\\n    Translation:\\n\\n    Dear Tom,\\n\\n    W...      7.533838   \n",
       "29  \\n\\nThe text is in French and it can be transl...      8.095346   \n",
       "30  \\n\\n    Translation:\\n\\n    Dear Tom,\\n\\n    W...      8.093347   \n",
       "31  \\n\\nThe text is in French and it can be transl...      7.513819   \n",
       "32  \\n\\n    Translation:\\n\\n    Dear Tom,\\n\\n    W...      7.966230   \n",
       "33                                              \\n\\n       7.869142   \n",
       "34                                              \\n\\n       7.700989   \n",
       "\n",
       "    Length_Zepyhr                                        Text_Zepyhr  \n",
       "0             294  \\nDear Tom,\\n\\nWe discussed during our last me...  \n",
       "1             281  \\nDear Tom,\\n\\nDuring our last meeting, we dec...  \n",
       "2             290  \\nDear Tom,\\n\\nWe discussed during our last me...  \n",
       "3             280  \\nDear Tom,\\n\\nAt the last meeting we discusse...  \n",
       "4             304  \\nDear Tom,\\n\\nDuring our last meeting, we dis...  \n",
       "5             287  \\nDear Tom,\\n\\nDuring our last meeting, we dis...  \n",
       "6             281  \\nDear Tom,\\n\\nDuring our last meeting, we dis...  \n",
       "7             299  \\nDear Tom,\\n\\nWe discussed during our last me...  \n",
       "8             277  \\nDear Tom,\\n\\nDuring our last meeting, we dis...  \n",
       "9             291  \\nDear Tom,\\n\\nWe discussed during our last me...  \n",
       "10            307  \\nDear Tom,\\n\\nDuring our last meeting, we dis...  \n",
       "11            289  \\nDear Tom,\\n\\nAs mentioned in the previous me...  \n",
       "12            272  \\nDear Tom,\\n\\nWe discussed during the last me...  \n",
       "13            288  \\nDear Tom,\\n\\nWe discussed during our last me...  \n",
       "14            286  \\nDear Tom,\\n\\nDuring our last meeting, we dis...  \n",
       "15            305  \\nDear Tom,\\n\\nWe discussed during our last me...  \n",
       "16            288  \\nDear Tom,\\n\\nDuring our last meeting, we dis...  \n",
       "17            279  \\nDear Tom,\\n\\nWe discussed during our last me...  \n",
       "18            290  \\nDear Tom,\\n\\nDuring the last meeting we deci...  \n",
       "19            288  \\nDear Tom,\\n\\nWe discussed during our last me...  \n",
       "20            293  \\nDear Tom,\\n\\nDuring our last meeting, we dis...  \n",
       "21            306  \\nDear Tom,\\n\\nDuring our last meeting, we dis...  \n",
       "22            285  \\nDear Tom,\\n\\nDuring our last meeting, we dis...  \n",
       "23            276  \\nDear Tom,\\n\\nDuring our last meeting, we dis...  \n",
       "24            287  \\nDear Tom,\\n\\nDuring our last meeting, we dis...  \n",
       "25            299  \\nDear Tom,\\n\\nDuring our last meeting, we dis...  \n",
       "26            306  \\nDear Tom,\\n\\nDuring our last meeting we agre...  \n",
       "27            283  \\nDear Tom,\\n\\nWe discussed during our last me...  \n",
       "28            274  \\nDear Tom,\\n\\nAt the last meeting we agreed t...  \n",
       "29            290  \\nDear Tom,\\n\\nDuring our last meeting, we dis...  \n",
       "30            295  \\nDear Tom,\\n\\nDuring our last meeting, we dis...  \n",
       "31            277  \\nDear Tom,\\n\\nDuring our last meeting, we dis...  \n",
       "32            286  \\nDear Tom,\\n\\nWe discussed during our last me...  \n",
       "33            303  \\nDear Tom,\\n\\nDuring our last meeting, we dis...  \n",
       "34            284  \\nDear Tom,\\n\\nWe discussed during the last me...  "
      ]
     },
     "execution_count": 12,
     "metadata": {},
     "output_type": "execute_result"
    }
   ],
   "source": [
    "df_both[:35]"
   ]
  },
  {
   "cell_type": "markdown",
   "id": "59389db3-6197-4712-963d-c883de7d8896",
   "metadata": {},
   "source": [
    "### Consistency check of LLama2"
   ]
  },
  {
   "cell_type": "code",
   "execution_count": 13,
   "id": "53a5a190-796f-4f62-9396-08d779ecba39",
   "metadata": {},
   "outputs": [
    {
     "name": "stdout",
     "output_type": "stream",
     "text": [
      "Average Llama2 Consistency Score (Cosine Similarity): 0.82\n"
     ]
    }
   ],
   "source": [
    "texts = df_both[:40]['Text_Llama'].values\n",
    "consistency_score = analyze_consistency(texts)\n",
    "print(f\"Average Llama2 Consistency Score (Cosine Similarity): {consistency_score:.2f}\")"
   ]
  },
  {
   "cell_type": "markdown",
   "id": "74f897c3-c617-429d-b500-7c47a24a871f",
   "metadata": {},
   "source": [
    "### Consistency check of Zepyhr"
   ]
  },
  {
   "cell_type": "code",
   "execution_count": 14,
   "id": "73ff28d8-e11e-4b49-8d07-8175c1f6ddad",
   "metadata": {},
   "outputs": [
    {
     "name": "stdout",
     "output_type": "stream",
     "text": [
      "Average Zepyhr Consistency Score (Cosine Similarity): 0.69\n"
     ]
    }
   ],
   "source": [
    "texts = df_both['Text_Zepyhr'].values\n",
    "consistency_score = analyze_consistency(texts)\n",
    "print(f\"Average Zepyhr Consistency Score (Cosine Similarity): {consistency_score:.2f}\")"
   ]
  },
  {
   "cell_type": "code",
   "execution_count": 15,
   "id": "a8362b1c-a40d-4d18-8d8b-22f61e133e1d",
   "metadata": {},
   "outputs": [
    {
     "data": {
      "text/plain": [
       "<100x107 sparse matrix of type '<class 'numpy.float64'>'\n",
       "\twith 4275 stored elements in Compressed Sparse Row format>"
      ]
     },
     "execution_count": 15,
     "metadata": {},
     "output_type": "execute_result"
    }
   ],
   "source": [
    "TfidfVectorizer().fit_transform(texts)"
   ]
  },
  {
   "cell_type": "markdown",
   "id": "167f4a93-2bb0-495a-90ae-7d08aa821c42",
   "metadata": {},
   "source": [
    "## Human evaluation"
   ]
  },
  {
   "cell_type": "code",
   "execution_count": 16,
   "id": "9fa4a485-2eb5-4ddd-b9e5-59c22f6599a5",
   "metadata": {},
   "outputs": [
    {
     "data": {
      "text/plain": [
       "array(['\\n\\n    Translation:\\n\\n    Dear Tom,\\n\\n    We discussed during the last meeting that we would complete the first five tasks and potentially add two more if we had time. Next week, we will have a call to discuss the validation process.\\n\\n    Until then, feel free to reach out to me with any other questions you may have.\\n\\n    Best regards,\\n\\n    Christophe',\n",
       "       '\\n\\n    Translation:\\n\\n    Dear Tom,\\n\\n    We discussed during the last meeting that we would complete the first five tasks and potentially add two more if we had time. Next week, we will have a call to discuss the validation process.\\n\\n    Until then, feel free to reach out to me with any other questions you may have.\\n\\n    Best regards,\\n\\n    Christophe',\n",
       "       '\\n\\n    Translation:\\n\\n    Dear Tom,\\n\\n    We discussed during the last meeting that we would complete the first five tasks and potentially add two more if we had time. Next week, we will have a call to discuss the validation process.\\n\\n    Until then, feel free to reach out to me with any other questions you may have.\\n\\n    Best regards,\\n\\n    Christophe',\n",
       "       '\\n\\nThe text is in French and it can be translated to English as follows:\\n\\nDear Tom,\\n\\nWe discussed during the last meeting that we would complete the first five tasks and potentially add two more if we had time. Next week, we will have a call to discuss the validation process.\\n\\nUntil then, feel free to reach out to me with any other questions you may have.\\n\\nBest regards,\\n\\nChristophe',\n",
       "       '\\n\\n    Translation:\\n\\n    Dear Tom,\\n\\n    We discussed during the last meeting that we would complete the first five tasks and potentially add two more if we had time. Next week, we will have a call to discuss the validation process.\\n\\n    Until then, feel free to reach out to me with any other questions you may have.\\n\\n    Best regards,\\n\\n    Christophe'],\n",
       "      dtype=object)"
      ]
     },
     "execution_count": 16,
     "metadata": {},
     "output_type": "execute_result"
    }
   ],
   "source": [
    "df_both.sample(5)['Text_Llama'].values"
   ]
  },
  {
   "cell_type": "code",
   "execution_count": 17,
   "id": "cd9a5666-eaf7-4575-bbbf-af9f78613a28",
   "metadata": {},
   "outputs": [
    {
     "data": {
      "text/plain": [
       "array(['\\nDear Tom,\\n\\nDuring the last meeting we decided that we will execute the first five tasks and complete two more if time permits. Next week, we will have a call to discuss the validation process. If you have any other questions, please do not hesitate to contact me. Best regards,\\n\\nChristophe',\n",
       "       \"\\nDear Tom,\\n\\nAs previously discussed in the last meeting, we will complete the first five tasks and two more if time permits. Next week, we'll have a call to discuss the validation process. If you have any other questions, feel free to contact me. Best regards,\\n\\nChristophe\",\n",
       "       '\\nDear Tom,\\n\\nDuring the last meeting we agreed that we will complete the first five tasks and if time permits, we will do two more. Next week we will have a call to discuss the validation process. If you have any other questions please do not hesitate to contact me.\\n\\nBest regards,\\n\\nChristophe',\n",
       "       \"\\nDear Tom,\\n\\nDuring our last meeting, we discussed that we would complete the first five tasks and have another two if there's time available. Next week, we will have a call to discuss the validation process. If you have any other questions, please don't hesitate to contact me.\\n\\nBest regards,\\n\\nChristophe\",\n",
       "       \"\\nDear Tom,\\n\\nWe discussed during our last meeting that we would complete the first five tasks and two more if time permits. Next week, we will have a call to discuss the validation process. If you have any other questions, please don't hesitate to contact me.\\n\\nBest regards,\\n\\nChristophe\"],\n",
       "      dtype=object)"
      ]
     },
     "execution_count": 17,
     "metadata": {},
     "output_type": "execute_result"
    }
   ],
   "source": [
    "df_both.sample(5)['Text_Zepyhr'].values"
   ]
  },
  {
   "cell_type": "markdown",
   "id": "fcd60c8d-f489-48db-a182-4825ad1e1d93",
   "metadata": {},
   "source": [
    "## METEOR SCORE"
   ]
  },
  {
   "cell_type": "code",
   "execution_count": 59,
   "id": "4d4fa87e-eea9-4d60-aabf-cbf1e2b6aa4b",
   "metadata": {},
   "outputs": [],
   "source": [
    "from nltk.translate.meteor_score import meteor_score\n",
    "\n",
    "def pairwise_comparison(phrases):\n",
    "    n = len(phrases)\n",
    "    matrix = [[0 for _ in range(n)] for _ in range(n)]\n",
    "    \n",
    "    for i in range(n):\n",
    "        for j in range(n):\n",
    "            if i != j:\n",
    "                matrix[i][j] = meteor_score([phrases[i].split()], phrases[j].split())\n",
    "                \n",
    "    return matrix\n"
   ]
  },
  {
   "cell_type": "code",
   "execution_count": 62,
   "id": "cf7e65ff-7813-470e-b89b-42e406b10407",
   "metadata": {},
   "outputs": [
    {
     "name": "stdout",
     "output_type": "stream",
     "text": [
      "Average score for Llama2 0.887944054420998\n"
     ]
    }
   ],
   "source": [
    "matrix = pairwise_comparison(df_both['Text_Llama'].values)\n",
    "means_llama2 = []\n",
    "for row in matrix:\n",
    "    means_llama2.append(np.mean(row))\n",
    "print(\"Average score for Llama2\", np.mean(means_llama2))"
   ]
  },
  {
   "cell_type": "code",
   "execution_count": 61,
   "id": "2b72c978-a6ed-4e2c-92b0-2abadc459ba8",
   "metadata": {},
   "outputs": [
    {
     "name": "stdout",
     "output_type": "stream",
     "text": [
      "Average score for Zephyr 0.848645993985023\n"
     ]
    }
   ],
   "source": [
    "matrix = pairwise_comparison(df_both['Text_Zepyhr'].values)\n",
    "means_zephyr = []\n",
    "for row in matrix:\n",
    "    means_zephyr.append(np.mean(row))\n",
    "print(\"Average score for Zephyr\", np.mean(means_zephyr))"
   ]
  }
 ],
 "metadata": {
  "kernelspec": {
   "display_name": "Python 3",
   "language": "python",
   "name": "python3"
  },
  "language_info": {
   "codemirror_mode": {
    "name": "ipython",
    "version": 3
   },
   "file_extension": ".py",
   "mimetype": "text/x-python",
   "name": "python",
   "nbconvert_exporter": "python",
   "pygments_lexer": "ipython3",
   "version": "3.8.8"
  }
 },
 "nbformat": 4,
 "nbformat_minor": 5
}
